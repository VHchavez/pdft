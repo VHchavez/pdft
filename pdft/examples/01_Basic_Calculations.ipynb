{
 "cells": [
  {
   "cell_type": "code",
   "execution_count": null,
   "metadata": {},
   "outputs": [],
   "source": [
    "import pdft\n",
    "import psi4 "
   ]
  },
  {
   "cell_type": "markdown",
   "metadata": {},
   "source": [
    "# Neon Example"
   ]
  },
  {
   "cell_type": "code",
   "execution_count": null,
   "metadata": {},
   "outputs": [],
   "source": [
    "ne_geometry = psi4.geometry(\"\"\"\n",
    "0 1\n",
    "Ne\n",
    "symmetry c1\n",
    "\"\"\")"
   ]
  },
  {
   "cell_type": "code",
   "execution_count": null,
   "metadata": {},
   "outputs": [],
   "source": [
    "#Restricted and Unrestricted calculations\n",
    "\n",
    "ner = pdft.RMolecule(ne_geometry, \"aug-cc-pVQZ\", \"pbe\")\n",
    "ner.scf()\n",
    "print(\"Restricted Energy\", ner.energy)\n",
    "#ner.energetics\n",
    "\n",
    "neu = pdft.UMolecule(ne_geometry, \"cc-pvdz\", \"pbe\")\n",
    "neu.scf()\n",
    "print(\"Unrestricted Energy\", ner.energy)\n",
    "#neu.energetics"
   ]
  },
  {
   "cell_type": "code",
   "execution_count": null,
   "metadata": {},
   "outputs": [],
   "source": [
    "#Plot electron density\n",
    "neu.axis_plot(\"z\", [neu.Da.np + neu.Db.np], xrange=[0,3], labels=[\"Helium Electron Density\"])\n",
    "\n",
    "#Plot electron density\n",
    "#neu.axis_plot(\"z\", [wfn.Da().np], xrange=[0,3], labels=[\"Helium Electron Density\"])\n",
    "\n",
    "#Differences in electron density\n",
    "#neu.axis_plot(\"z\", [neu.Da.np - wfn.Da().np], xrange=[0,3], labels=[\"Helium Electron Density\"])"
   ]
  },
  {
   "cell_type": "code",
   "execution_count": null,
   "metadata": {},
   "outputs": [],
   "source": [
    "#Plot Exchange Correlation with pdft\n",
    "neu.axis_plot(\"z\", [neu.vxc_a.np, neu.vxc_b.np], \n",
    "                   xrange=[0,3], yrange=[-5, 0.1], \n",
    "                   labels=[\"vxc_a\", \"vxc_b\"])\n",
    "\n",
    "\n",
    "#Plot exchange correlation with psi4\n",
    "# neu.axis_plot(\"z\", [wfn.Va().np, wfn.Vb().np], \n",
    "#                    xrange=[0,3], yrange=[-5, 0.1], \n",
    "#                    labels=[\"vxc_a\", \"vxc_b\"])\n",
    "\n",
    "#Difference between psi4 and pdft\n",
    "# neu.axis_plot(\"z\", [wfn.Va().np + wfn.Vb().np - (neu.vxc_a.np + neu.vxc_b.np)], \n",
    "#                    xrange=[0,3], yrange=[-5, 0.1], \n",
    "#                    labels=[\"vxc_a\", \"vxc_b\"])"
   ]
  },
  {
   "cell_type": "markdown",
   "metadata": {},
   "source": [
    "# Hydrogen Example | Self Interaction Error"
   ]
  },
  {
   "cell_type": "code",
   "execution_count": null,
   "metadata": {},
   "outputs": [],
   "source": [
    "h_geometry = psi4.geometry(\"\"\"\n",
    "0 2\n",
    "H\n",
    "symmetry c1\n",
    "\"\"\")\n",
    "\n",
    "hu = pdft.UMolecule(h_geometry, \"aug-cc-pvdz\", \"svwn\")\n",
    "hu.scf()\n",
    "print(\"Hydrogen Energy\", hu.energy)"
   ]
  },
  {
   "cell_type": "code",
   "execution_count": null,
   "metadata": {},
   "outputs": [],
   "source": [
    "#Plot electron density\n",
    "hu.axis_plot(\"z\", [hu.Da.np + hu.Db.np], xrange=[0,3], labels=[\"Hydrogen Electron Density\"])"
   ]
  },
  {
   "cell_type": "code",
   "execution_count": null,
   "metadata": {},
   "outputs": [],
   "source": [
    "#Self Interaction Error Plot\n",
    "\n",
    "vxc = hu.vxc_a.np + hu.vxc_b.np\n",
    "hartree = hu.vha_a.np + hu.vha_b.np\n",
    "sie = vxc + hartree\n",
    "\n",
    "hu.axis_plot(\"z\", [vxc, hartree, sie], \n",
    "                  labels=[\"Vxc\", \"VHartree\", \"SIE\"],\n",
    "                  xrange=[0,3],)"
   ]
  },
  {
   "cell_type": "markdown",
   "metadata": {},
   "source": [
    "# Inversion Example"
   ]
  },
  {
   "cell_type": "code",
   "execution_count": null,
   "metadata": {},
   "outputs": [],
   "source": [
    "#Be2 \n",
    "\n",
    "import pdft\n",
    "import psi4 \n",
    "\n",
    "#Define Fragments\n",
    "bea = psi4.geometry(\"\"\"\n",
    "0 1 \n",
    "noreorient\n",
    "Be 0.0 0.0 0.0\n",
    "@Be 0.0 0.0 2.3929393\n",
    "units angstrom\n",
    "symmetry c1\n",
    "\"\"\")\n",
    "\n",
    "beb = psi4.geometry(\"\"\"\n",
    "0 1 \n",
    "noreorient\n",
    "@Be 0.0 0.0 0.0\n",
    "Be 0.0 0.0 2.3929393\n",
    "units angstrom\n",
    "symmetry c1\n",
    "\"\"\")\n",
    "\n",
    "be2 = psi4.geometry(\"\"\"\n",
    "0 1\n",
    "noreorient\n",
    "Be 0.0 0.0 0.0\n",
    "Be 0.0 0.0 2.3929393\n",
    "units angstrom\n",
    "symmetry c1\n",
    "\"\"\")\n",
    "\n",
    "\n",
    "#SCF on fragments\n",
    "\n",
    "method = \"svwn\"\n",
    "basis  = \"ugbs\"\n",
    "f_bea = pdft.RMolecule(bea, basis, method)\n",
    "f_beb = pdft.RMolecule(beb, basis, method)\n",
    "m_be2 = pdft.RMolecule(be2, basis, method)\n",
    "f_bea.scf()\n",
    "f_beb.scf()\n",
    "m_be2.scf()\n",
    "\n",
    "#Define inversion object\n",
    "inv = pdft.Inversion([f_bea, f_beb], m_be2)"
   ]
  },
  {
   "cell_type": "code",
   "execution_count": null,
   "metadata": {},
   "outputs": [],
   "source": [
    "#Perform ZPM method\n",
    "inv.vp_handler(\"zpm\", beta=5, maxiter=600, print_scf=True, plot_scf=True)"
   ]
  },
  {
   "cell_type": "markdown",
   "metadata": {},
   "source": [
    "---"
   ]
  },
  {
   "cell_type": "code",
   "execution_count": null,
   "metadata": {},
   "outputs": [],
   "source": [
    "#Dimer\n",
    "\n",
    "import pdft\n",
    "import psi4\n",
    "\n",
    "psi4.set_options({\"DFT_SPHERICAL_POINTS\" : 110, \n",
    "                 \"DFT_RADIAL_POINTS\" : 70})\n",
    "\n",
    "w1_geometry = psi4.geometry(\"\"\"\n",
    "0 1\n",
    "O -0.014038 0.177981 0.088324\n",
    "H 0.239554 -0.111539 0.979257\n",
    "H 0.774446 0.005137 -0.450548\n",
    "@O -1.248545 -2.299366 -0.642059\n",
    "@H -0.973971 -1.386442 -0.428362 \n",
    "@H -2.139855 -2.198896 -1.005662\n",
    "symmetry c1\n",
    "units angstrom\n",
    "\"\"\")\n",
    "w2_geometry = psi4.geometry(\"\"\"\n",
    "0 1\n",
    "@O -0.014038 0.177981 0.088324\n",
    "@H 0.239554 -0.111539 0.979257\n",
    "@H 0.774446 0.005137 -0.450548\n",
    "O -1.248545 -2.299366 -0.642059\n",
    "H -0.973971 -1.386442 -0.428362 \n",
    "H -2.139855 -2.198896 -1.005662\n",
    "symmetry c1\n",
    "units angstrom\n",
    "\"\"\")\n",
    "dimer_geometry = psi4.geometry(\"\"\"\n",
    "0 1\n",
    "O -0.014038 0.177981 0.088324\n",
    "H 0.239554 -0.111539 0.979257\n",
    "H 0.774446 0.005137 -0.450548\n",
    "O -1.248545 -2.299366 -0.642059\n",
    "H -0.973971 -1.386442 -0.428362 \n",
    "H -2.139855 -2.198896 -1.005662\n",
    "symmetry c1\n",
    "units angstrom\n",
    "\"\"\")\n",
    "\n",
    "method = \"svwn\"\n",
    "basis = \"cc-pvdz\"\n",
    "\n",
    "#FRAGMENTS\n",
    "w1    = pdft.RMolecule(w1_geometry, basis, method)\n",
    "w2    = pdft.RMolecule(w2_geometry, basis, method)\n",
    "dimer = pdft.RMolecule(dimer_geometry, basis, method)\n",
    "\n",
    "w1.scf()\n",
    "print(\"w1 energy\", w1.energy)\n",
    "w2.scf()\n",
    "print(\"w1 energy\", w2.energy)\n",
    "dimer.scf()\n",
    "print(\"dimer energy\", dimer.energy)"
   ]
  },
  {
   "cell_type": "code",
   "execution_count": null,
   "metadata": {},
   "outputs": [],
   "source": [
    "winv = pdft.Inversion([w1, w2], dimer)"
   ]
  },
  {
   "cell_type": "code",
   "execution_count": null,
   "metadata": {},
   "outputs": [],
   "source": [
    "winv.vp_handler(\"zpm\", beta=5, maxiter=600, print_scf=True, plot_scf=True)"
   ]
  },
  {
   "cell_type": "markdown",
   "metadata": {},
   "source": [
    "---"
   ]
  }
 ],
 "metadata": {
  "kernelspec": {
   "display_name": "Python [conda env:p4env] *",
   "language": "python",
   "name": "conda-env-p4env-py"
  },
  "language_info": {
   "codemirror_mode": {
    "name": "ipython",
    "version": 3
   },
   "file_extension": ".py",
   "mimetype": "text/x-python",
   "name": "python",
   "nbconvert_exporter": "python",
   "pygments_lexer": "ipython3",
   "version": "3.7.3"
  },
  "varInspector": {
   "cols": {
    "lenName": 16,
    "lenType": 16,
    "lenVar": 40
   },
   "kernels_config": {
    "python": {
     "delete_cmd_postfix": "",
     "delete_cmd_prefix": "del ",
     "library": "var_list.py",
     "varRefreshCmd": "print(var_dic_list())"
    },
    "r": {
     "delete_cmd_postfix": ") ",
     "delete_cmd_prefix": "rm(",
     "library": "var_list.r",
     "varRefreshCmd": "cat(var_dic_list()) "
    }
   },
   "types_to_exclude": [
    "module",
    "function",
    "builtin_function_or_method",
    "instance",
    "_Feature"
   ],
   "window_display": false
  }
 },
 "nbformat": 4,
 "nbformat_minor": 4
}
